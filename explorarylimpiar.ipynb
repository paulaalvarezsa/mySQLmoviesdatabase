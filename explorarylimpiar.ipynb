{
 "cells": [
  {
   "cell_type": "code",
   "execution_count": 59,
   "metadata": {},
   "outputs": [],
   "source": [
    "import pandas as pd\n"
   ]
  },
  {
   "cell_type": "code",
   "execution_count": 60,
   "metadata": {},
   "outputs": [],
   "source": [
    "#df = pd.read_csv(\"rental.csv\")"
   ]
  },
  {
   "cell_type": "code",
   "execution_count": null,
   "metadata": {},
   "outputs": [],
   "source": [
    "df.to_sql()\n",
    "\n"
   ]
  },
  {
   "cell_type": "code",
   "execution_count": 61,
   "metadata": {},
   "outputs": [],
   "source": [
    "df= df.drop('last_update', axis=1)"
   ]
  },
  {
   "cell_type": "code",
   "execution_count": 62,
   "metadata": {},
   "outputs": [
    {
     "data": {
      "text/html": [
       "<div>\n",
       "<style scoped>\n",
       "    .dataframe tbody tr th:only-of-type {\n",
       "        vertical-align: middle;\n",
       "    }\n",
       "\n",
       "    .dataframe tbody tr th {\n",
       "        vertical-align: top;\n",
       "    }\n",
       "\n",
       "    .dataframe thead th {\n",
       "        text-align: right;\n",
       "    }\n",
       "</style>\n",
       "<table border=\"1\" class=\"dataframe\">\n",
       "  <thead>\n",
       "    <tr style=\"text-align: right;\">\n",
       "      <th></th>\n",
       "      <th>rental_id</th>\n",
       "      <th>rental_date</th>\n",
       "      <th>inventory_id</th>\n",
       "      <th>customer_id</th>\n",
       "      <th>return_date</th>\n",
       "      <th>staff_id</th>\n",
       "    </tr>\n",
       "  </thead>\n",
       "  <tbody>\n",
       "    <tr>\n",
       "      <th>0</th>\n",
       "      <td>1</td>\n",
       "      <td>2005-05-24 22:53:30</td>\n",
       "      <td>367</td>\n",
       "      <td>130</td>\n",
       "      <td>2005-05-26 22:04:30</td>\n",
       "      <td>1</td>\n",
       "    </tr>\n",
       "    <tr>\n",
       "      <th>1</th>\n",
       "      <td>2</td>\n",
       "      <td>2005-05-24 22:54:33</td>\n",
       "      <td>1525</td>\n",
       "      <td>459</td>\n",
       "      <td>2005-05-28 19:40:33</td>\n",
       "      <td>1</td>\n",
       "    </tr>\n",
       "    <tr>\n",
       "      <th>2</th>\n",
       "      <td>3</td>\n",
       "      <td>2005-05-24 23:03:39</td>\n",
       "      <td>1711</td>\n",
       "      <td>408</td>\n",
       "      <td>2005-06-01 22:12:39</td>\n",
       "      <td>1</td>\n",
       "    </tr>\n",
       "    <tr>\n",
       "      <th>3</th>\n",
       "      <td>4</td>\n",
       "      <td>2005-05-24 23:04:41</td>\n",
       "      <td>2452</td>\n",
       "      <td>333</td>\n",
       "      <td>2005-06-03 01:43:41</td>\n",
       "      <td>2</td>\n",
       "    </tr>\n",
       "    <tr>\n",
       "      <th>4</th>\n",
       "      <td>5</td>\n",
       "      <td>2005-05-24 23:05:21</td>\n",
       "      <td>2079</td>\n",
       "      <td>222</td>\n",
       "      <td>2005-06-02 04:33:21</td>\n",
       "      <td>1</td>\n",
       "    </tr>\n",
       "  </tbody>\n",
       "</table>\n",
       "</div>"
      ],
      "text/plain": [
       "   rental_id          rental_date  inventory_id  customer_id  \\\n",
       "0          1  2005-05-24 22:53:30           367          130   \n",
       "1          2  2005-05-24 22:54:33          1525          459   \n",
       "2          3  2005-05-24 23:03:39          1711          408   \n",
       "3          4  2005-05-24 23:04:41          2452          333   \n",
       "4          5  2005-05-24 23:05:21          2079          222   \n",
       "\n",
       "           return_date  staff_id  \n",
       "0  2005-05-26 22:04:30         1  \n",
       "1  2005-05-28 19:40:33         1  \n",
       "2  2005-06-01 22:12:39         1  \n",
       "3  2005-06-03 01:43:41         2  \n",
       "4  2005-06-02 04:33:21         1  "
      ]
     },
     "execution_count": 62,
     "metadata": {},
     "output_type": "execute_result"
    }
   ],
   "source": [
    "df.head()"
   ]
  },
  {
   "cell_type": "code",
   "execution_count": 63,
   "metadata": {},
   "outputs": [
    {
     "data": {
      "text/plain": [
       "<bound method DataFrame.info of      rental_id          rental_date  inventory_id  customer_id  \\\n",
       "0            1  2005-05-24 22:53:30           367          130   \n",
       "1            2  2005-05-24 22:54:33          1525          459   \n",
       "2            3  2005-05-24 23:03:39          1711          408   \n",
       "3            4  2005-05-24 23:04:41          2452          333   \n",
       "4            5  2005-05-24 23:05:21          2079          222   \n",
       "..         ...                  ...           ...          ...   \n",
       "995        997  2005-05-31 00:08:25          4243          216   \n",
       "996        998  2005-05-31 00:16:57          3395          389   \n",
       "997        999  2005-05-31 00:25:10          4433          413   \n",
       "998       1000  2005-05-31 00:25:56          1774          332   \n",
       "999       1001  2005-05-31 00:46:31          1498           64   \n",
       "\n",
       "             return_date  staff_id  \n",
       "0    2005-05-26 22:04:30         1  \n",
       "1    2005-05-28 19:40:33         1  \n",
       "2    2005-06-01 22:12:39         1  \n",
       "3    2005-06-03 01:43:41         2  \n",
       "4    2005-06-02 04:33:21         1  \n",
       "..                   ...       ...  \n",
       "995  2005-06-02 00:17:25         2  \n",
       "996  2005-06-01 22:41:57         1  \n",
       "997  2005-06-03 06:05:10         2  \n",
       "998  2005-06-08 19:42:56         2  \n",
       "999  2005-06-06 06:14:31         2  \n",
       "\n",
       "[1000 rows x 6 columns]>"
      ]
     },
     "execution_count": 63,
     "metadata": {},
     "output_type": "execute_result"
    }
   ],
   "source": [
    "df.info"
   ]
  },
  {
   "cell_type": "code",
   "execution_count": 64,
   "metadata": {},
   "outputs": [
    {
     "data": {
      "text/plain": [
       "(1000, 6)"
      ]
     },
     "execution_count": 64,
     "metadata": {},
     "output_type": "execute_result"
    }
   ],
   "source": [
    "df.shape"
   ]
  },
  {
   "cell_type": "code",
   "execution_count": 65,
   "metadata": {},
   "outputs": [
    {
     "name": "stdout",
     "output_type": "stream",
     "text": [
      "        rental_id  inventory_id  customer_id     staff_id\n",
      "count  1000.00000   1000.000000  1000.000000  1000.000000\n",
      "mean    501.18000   2258.179000   296.408000     1.521000\n",
      "std     289.19665   1314.667454   172.509319     0.499809\n",
      "min       1.00000      2.000000     1.000000     1.000000\n",
      "25%     250.75000   1157.500000   150.000000     1.000000\n",
      "50%     501.50000   2244.500000   296.000000     2.000000\n",
      "75%     751.25000   3371.750000   445.250000     2.000000\n",
      "max    1001.00000   4581.000000   597.000000     2.000000\n"
     ]
    }
   ],
   "source": [
    "print(df.describe())"
   ]
  },
  {
   "cell_type": "code",
   "execution_count": 66,
   "metadata": {},
   "outputs": [
    {
     "data": {
      "text/html": [
       "<div>\n",
       "<style scoped>\n",
       "    .dataframe tbody tr th:only-of-type {\n",
       "        vertical-align: middle;\n",
       "    }\n",
       "\n",
       "    .dataframe tbody tr th {\n",
       "        vertical-align: top;\n",
       "    }\n",
       "\n",
       "    .dataframe thead th {\n",
       "        text-align: right;\n",
       "    }\n",
       "</style>\n",
       "<table border=\"1\" class=\"dataframe\">\n",
       "  <thead>\n",
       "    <tr style=\"text-align: right;\">\n",
       "      <th></th>\n",
       "      <th>rental_id</th>\n",
       "      <th>inventory_id</th>\n",
       "      <th>customer_id</th>\n",
       "      <th>staff_id</th>\n",
       "    </tr>\n",
       "  </thead>\n",
       "  <tbody>\n",
       "    <tr>\n",
       "      <th>count</th>\n",
       "      <td>1000.00000</td>\n",
       "      <td>1000.000000</td>\n",
       "      <td>1000.000000</td>\n",
       "      <td>1000.000000</td>\n",
       "    </tr>\n",
       "    <tr>\n",
       "      <th>mean</th>\n",
       "      <td>501.18000</td>\n",
       "      <td>2258.179000</td>\n",
       "      <td>296.408000</td>\n",
       "      <td>1.521000</td>\n",
       "    </tr>\n",
       "    <tr>\n",
       "      <th>std</th>\n",
       "      <td>289.19665</td>\n",
       "      <td>1314.667454</td>\n",
       "      <td>172.509319</td>\n",
       "      <td>0.499809</td>\n",
       "    </tr>\n",
       "    <tr>\n",
       "      <th>min</th>\n",
       "      <td>1.00000</td>\n",
       "      <td>2.000000</td>\n",
       "      <td>1.000000</td>\n",
       "      <td>1.000000</td>\n",
       "    </tr>\n",
       "    <tr>\n",
       "      <th>25%</th>\n",
       "      <td>250.75000</td>\n",
       "      <td>1157.500000</td>\n",
       "      <td>150.000000</td>\n",
       "      <td>1.000000</td>\n",
       "    </tr>\n",
       "    <tr>\n",
       "      <th>50%</th>\n",
       "      <td>501.50000</td>\n",
       "      <td>2244.500000</td>\n",
       "      <td>296.000000</td>\n",
       "      <td>2.000000</td>\n",
       "    </tr>\n",
       "    <tr>\n",
       "      <th>75%</th>\n",
       "      <td>751.25000</td>\n",
       "      <td>3371.750000</td>\n",
       "      <td>445.250000</td>\n",
       "      <td>2.000000</td>\n",
       "    </tr>\n",
       "    <tr>\n",
       "      <th>max</th>\n",
       "      <td>1001.00000</td>\n",
       "      <td>4581.000000</td>\n",
       "      <td>597.000000</td>\n",
       "      <td>2.000000</td>\n",
       "    </tr>\n",
       "  </tbody>\n",
       "</table>\n",
       "</div>"
      ],
      "text/plain": [
       "        rental_id  inventory_id  customer_id     staff_id\n",
       "count  1000.00000   1000.000000  1000.000000  1000.000000\n",
       "mean    501.18000   2258.179000   296.408000     1.521000\n",
       "std     289.19665   1314.667454   172.509319     0.499809\n",
       "min       1.00000      2.000000     1.000000     1.000000\n",
       "25%     250.75000   1157.500000   150.000000     1.000000\n",
       "50%     501.50000   2244.500000   296.000000     2.000000\n",
       "75%     751.25000   3371.750000   445.250000     2.000000\n",
       "max    1001.00000   4581.000000   597.000000     2.000000"
      ]
     },
     "execution_count": 66,
     "metadata": {},
     "output_type": "execute_result"
    }
   ],
   "source": [
    "df.describe()"
   ]
  },
  {
   "cell_type": "code",
   "execution_count": 67,
   "metadata": {},
   "outputs": [
    {
     "data": {
      "text/plain": [
       "Index(['rental_id', 'rental_date', 'inventory_id', 'customer_id',\n",
       "       'return_date', 'staff_id'],\n",
       "      dtype='object')"
      ]
     },
     "execution_count": 67,
     "metadata": {},
     "output_type": "execute_result"
    }
   ],
   "source": [
    "df.columns"
   ]
  },
  {
   "cell_type": "code",
   "execution_count": 68,
   "metadata": {},
   "outputs": [
    {
     "data": {
      "text/plain": [
       "<bound method DataFrame.info of      rental_id          rental_date  inventory_id  customer_id  \\\n",
       "0            1  2005-05-24 22:53:30           367          130   \n",
       "1            2  2005-05-24 22:54:33          1525          459   \n",
       "2            3  2005-05-24 23:03:39          1711          408   \n",
       "3            4  2005-05-24 23:04:41          2452          333   \n",
       "4            5  2005-05-24 23:05:21          2079          222   \n",
       "..         ...                  ...           ...          ...   \n",
       "995        997  2005-05-31 00:08:25          4243          216   \n",
       "996        998  2005-05-31 00:16:57          3395          389   \n",
       "997        999  2005-05-31 00:25:10          4433          413   \n",
       "998       1000  2005-05-31 00:25:56          1774          332   \n",
       "999       1001  2005-05-31 00:46:31          1498           64   \n",
       "\n",
       "             return_date  staff_id  \n",
       "0    2005-05-26 22:04:30         1  \n",
       "1    2005-05-28 19:40:33         1  \n",
       "2    2005-06-01 22:12:39         1  \n",
       "3    2005-06-03 01:43:41         2  \n",
       "4    2005-06-02 04:33:21         1  \n",
       "..                   ...       ...  \n",
       "995  2005-06-02 00:17:25         2  \n",
       "996  2005-06-01 22:41:57         1  \n",
       "997  2005-06-03 06:05:10         2  \n",
       "998  2005-06-08 19:42:56         2  \n",
       "999  2005-06-06 06:14:31         2  \n",
       "\n",
       "[1000 rows x 6 columns]>"
      ]
     },
     "execution_count": 68,
     "metadata": {},
     "output_type": "execute_result"
    }
   ],
   "source": [
    "df.info"
   ]
  },
  {
   "cell_type": "code",
   "execution_count": 69,
   "metadata": {},
   "outputs": [
    {
     "data": {
      "text/html": [
       "<div>\n",
       "<style scoped>\n",
       "    .dataframe tbody tr th:only-of-type {\n",
       "        vertical-align: middle;\n",
       "    }\n",
       "\n",
       "    .dataframe tbody tr th {\n",
       "        vertical-align: top;\n",
       "    }\n",
       "\n",
       "    .dataframe thead th {\n",
       "        text-align: right;\n",
       "    }\n",
       "</style>\n",
       "<table border=\"1\" class=\"dataframe\">\n",
       "  <thead>\n",
       "    <tr style=\"text-align: right;\">\n",
       "      <th></th>\n",
       "      <th>rental_id</th>\n",
       "      <th>rental_date</th>\n",
       "      <th>inventory_id</th>\n",
       "      <th>customer_id</th>\n",
       "      <th>return_date</th>\n",
       "      <th>staff_id</th>\n",
       "    </tr>\n",
       "  </thead>\n",
       "  <tbody>\n",
       "    <tr>\n",
       "      <th>0</th>\n",
       "      <td>False</td>\n",
       "      <td>False</td>\n",
       "      <td>False</td>\n",
       "      <td>False</td>\n",
       "      <td>False</td>\n",
       "      <td>False</td>\n",
       "    </tr>\n",
       "    <tr>\n",
       "      <th>1</th>\n",
       "      <td>False</td>\n",
       "      <td>False</td>\n",
       "      <td>False</td>\n",
       "      <td>False</td>\n",
       "      <td>False</td>\n",
       "      <td>False</td>\n",
       "    </tr>\n",
       "    <tr>\n",
       "      <th>2</th>\n",
       "      <td>False</td>\n",
       "      <td>False</td>\n",
       "      <td>False</td>\n",
       "      <td>False</td>\n",
       "      <td>False</td>\n",
       "      <td>False</td>\n",
       "    </tr>\n",
       "    <tr>\n",
       "      <th>3</th>\n",
       "      <td>False</td>\n",
       "      <td>False</td>\n",
       "      <td>False</td>\n",
       "      <td>False</td>\n",
       "      <td>False</td>\n",
       "      <td>False</td>\n",
       "    </tr>\n",
       "    <tr>\n",
       "      <th>4</th>\n",
       "      <td>False</td>\n",
       "      <td>False</td>\n",
       "      <td>False</td>\n",
       "      <td>False</td>\n",
       "      <td>False</td>\n",
       "      <td>False</td>\n",
       "    </tr>\n",
       "    <tr>\n",
       "      <th>...</th>\n",
       "      <td>...</td>\n",
       "      <td>...</td>\n",
       "      <td>...</td>\n",
       "      <td>...</td>\n",
       "      <td>...</td>\n",
       "      <td>...</td>\n",
       "    </tr>\n",
       "    <tr>\n",
       "      <th>995</th>\n",
       "      <td>False</td>\n",
       "      <td>False</td>\n",
       "      <td>False</td>\n",
       "      <td>False</td>\n",
       "      <td>False</td>\n",
       "      <td>False</td>\n",
       "    </tr>\n",
       "    <tr>\n",
       "      <th>996</th>\n",
       "      <td>False</td>\n",
       "      <td>False</td>\n",
       "      <td>False</td>\n",
       "      <td>False</td>\n",
       "      <td>False</td>\n",
       "      <td>False</td>\n",
       "    </tr>\n",
       "    <tr>\n",
       "      <th>997</th>\n",
       "      <td>False</td>\n",
       "      <td>False</td>\n",
       "      <td>False</td>\n",
       "      <td>False</td>\n",
       "      <td>False</td>\n",
       "      <td>False</td>\n",
       "    </tr>\n",
       "    <tr>\n",
       "      <th>998</th>\n",
       "      <td>False</td>\n",
       "      <td>False</td>\n",
       "      <td>False</td>\n",
       "      <td>False</td>\n",
       "      <td>False</td>\n",
       "      <td>False</td>\n",
       "    </tr>\n",
       "    <tr>\n",
       "      <th>999</th>\n",
       "      <td>False</td>\n",
       "      <td>False</td>\n",
       "      <td>False</td>\n",
       "      <td>False</td>\n",
       "      <td>False</td>\n",
       "      <td>False</td>\n",
       "    </tr>\n",
       "  </tbody>\n",
       "</table>\n",
       "<p>1000 rows × 6 columns</p>\n",
       "</div>"
      ],
      "text/plain": [
       "     rental_id  rental_date  inventory_id  customer_id  return_date  staff_id\n",
       "0        False        False         False        False        False     False\n",
       "1        False        False         False        False        False     False\n",
       "2        False        False         False        False        False     False\n",
       "3        False        False         False        False        False     False\n",
       "4        False        False         False        False        False     False\n",
       "..         ...          ...           ...          ...          ...       ...\n",
       "995      False        False         False        False        False     False\n",
       "996      False        False         False        False        False     False\n",
       "997      False        False         False        False        False     False\n",
       "998      False        False         False        False        False     False\n",
       "999      False        False         False        False        False     False\n",
       "\n",
       "[1000 rows x 6 columns]"
      ]
     },
     "execution_count": 69,
     "metadata": {},
     "output_type": "execute_result"
    }
   ],
   "source": [
    "df.isnull()"
   ]
  },
  {
   "cell_type": "code",
   "execution_count": null,
   "metadata": {},
   "outputs": [],
   "source": []
  }
 ],
 "metadata": {
  "kernelspec": {
   "display_name": "Python 3",
   "language": "python",
   "name": "python3"
  },
  "language_info": {
   "codemirror_mode": {
    "name": "ipython",
    "version": 3
   },
   "file_extension": ".py",
   "mimetype": "text/x-python",
   "name": "python",
   "nbconvert_exporter": "python",
   "pygments_lexer": "ipython3",
   "version": "3.10.4 (v3.10.4:9d38120e33, Mar 23 2022, 17:29:05) [Clang 13.0.0 (clang-1300.0.29.30)]"
  },
  "orig_nbformat": 4,
  "vscode": {
   "interpreter": {
    "hash": "aee8b7b246df8f9039afb4144a1f6fd8d2ca17a180786b69acc140d282b71a49"
   }
  }
 },
 "nbformat": 4,
 "nbformat_minor": 2
}
